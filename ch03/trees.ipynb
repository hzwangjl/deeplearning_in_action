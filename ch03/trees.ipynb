{
 "cells": [
  {
   "cell_type": "code",
   "execution_count": 45,
   "metadata": {
    "ExecuteTime": {
     "end_time": "2018-12-09T05:48:34.200205Z",
     "start_time": "2018-12-09T05:48:34.195610Z"
    }
   },
   "outputs": [],
   "source": [
    "from math import log"
   ]
  },
  {
   "cell_type": "code",
   "execution_count": 55,
   "metadata": {
    "ExecuteTime": {
     "end_time": "2018-12-09T05:50:35.371608Z",
     "start_time": "2018-12-09T05:50:35.362067Z"
    }
   },
   "outputs": [],
   "source": [
    "def calcShannonEnt(dataSet):\n",
    "    numEntries = len(dataSet)\n",
    "    labelCounts = {}\n",
    "    for featVec in dataSet:\n",
    "        currentLabel = featVec[-1] # 获取最后一列\n",
    "        if currentLabel not in labelCounts.keys(): # 统计单个label出现次数\n",
    "            labelCounts[currentLabel] = 0\n",
    "        labelCounts[currentLabel] += 1\n",
    "    shannonEnt = 0.0\n",
    "    for key in labelCounts:\n",
    "        prob = float(labelCounts[key]) / numEntries\n",
    "        shannonEnt -= prob * log(prob, 2)\n",
    "    return shannonEnt"
   ]
  },
  {
   "cell_type": "code",
   "execution_count": 56,
   "metadata": {
    "ExecuteTime": {
     "end_time": "2018-12-09T05:50:35.657226Z",
     "start_time": "2018-12-09T05:50:35.650578Z"
    }
   },
   "outputs": [],
   "source": [
    "def createDataSet():\n",
    "    dataSet = [[1, 1, \"yes\"], [1, 1, \"yes\"], [1, 0, \"no\"], [0, 1, \"no\"], [0, 1, \"no\"]]\n",
    "    labels = ['no surfacing', 'flippers']\n",
    "    return dataSet, labels"
   ]
  },
  {
   "cell_type": "code",
   "execution_count": 61,
   "metadata": {
    "ExecuteTime": {
     "end_time": "2018-12-09T05:50:47.873318Z",
     "start_time": "2018-12-09T05:50:47.866927Z"
    }
   },
   "outputs": [],
   "source": [
    "def splitDataSet(dataSet, axis, value):\n",
    "    '''\n",
    "    按照特征value，划分数据集\n",
    "    @param\n",
    "    axis: 第几列数据\n",
    "    value: 获取的第axis与value做比较\n",
    "    '''\n",
    "    retDataSet = []\n",
    "    for featVec in dataSet:\n",
    "        if featVec[axis] == value:\n",
    "            reducedFeatVec = featVec[:axis]\n",
    "            reducedFeatVec.extend(featVec[axis+1:])\n",
    "            retDataSet.append(reducedFeatVec)\n",
    "    return retDataSet"
   ]
  },
  {
   "cell_type": "code",
   "execution_count": 62,
   "metadata": {
    "ExecuteTime": {
     "end_time": "2018-12-09T05:50:48.231990Z",
     "start_time": "2018-12-09T05:50:48.218592Z"
    }
   },
   "outputs": [],
   "source": [
    "def chooseBestFeatureToSplit(dataSet):\n",
    "    '''\n",
    "    选择最好的数据划分方式\n",
    "    数据有列元素组成，且长度相同，最后一列为label\n",
    "    \n",
    "    按列进行遍历， 先获取一列中有几种不同的值（uniqueVals），然后计算\n",
    "    这一列按这几个不同值进行划分后的熵并累加，接着取累计熵最大列作为最好的\n",
    "    特征列输出（bestFeature), 说明按第bestFeature列的数据进行划分，\n",
    "    分类效果最好。\n",
    "    '''\n",
    "    numFeatures = len(dataSet[0]) - 1 # 最后一列是label\n",
    "    baseEntroy = calcShannonEnt(dataSet)\n",
    "    bestInfoGain = 0.0\n",
    "    bestFeature = -1\n",
    "    for i in range(numFeatures):\n",
    "        featList = [example[i] for example in dataSet]\n",
    "        uniqueVals = set(featList) #第i数据共有几种不同值\n",
    "        newEntropy = 0.0\n",
    "        for value in uniqueVals:#计算第i列数据，按不同value的熵，并累计\n",
    "            subDatasSet = splitDataSet(dataSet, i, value)\n",
    "            prob = len(subDatasSet) / float(len(dataSet))\n",
    "            newEntropy += prob * calcShannonEnt(subDatasSet)\n",
    "        infoGain = baseEntroy - newEntropy\n",
    "        if (infoGain > bestInfoGain):\n",
    "            bestInfoGain = infoGain\n",
    "            bestFeature = i\n",
    "    return bestFeature"
   ]
  },
  {
   "cell_type": "code",
   "execution_count": 63,
   "metadata": {
    "ExecuteTime": {
     "end_time": "2018-12-09T05:50:48.520826Z",
     "start_time": "2018-12-09T05:50:48.515904Z"
    }
   },
   "outputs": [],
   "source": [
    "dataset, labels = createDataSet()"
   ]
  },
  {
   "cell_type": "code",
   "execution_count": 64,
   "metadata": {
    "ExecuteTime": {
     "end_time": "2018-12-09T05:50:48.791849Z",
     "start_time": "2018-12-09T05:50:48.783071Z"
    }
   },
   "outputs": [
    {
     "data": {
      "text/plain": [
       "0"
      ]
     },
     "execution_count": 64,
     "metadata": {},
     "output_type": "execute_result"
    }
   ],
   "source": [
    "chooseBestFeatureToSplit(dataset)"
   ]
  },
  {
   "cell_type": "code",
   "execution_count": null,
   "metadata": {},
   "outputs": [],
   "source": []
  },
  {
   "cell_type": "code",
   "execution_count": null,
   "metadata": {},
   "outputs": [],
   "source": []
  }
 ],
 "metadata": {
  "kernelspec": {
   "display_name": "Python 2",
   "language": "python",
   "name": "python2"
  },
  "language_info": {
   "codemirror_mode": {
    "name": "ipython",
    "version": 2
   },
   "file_extension": ".py",
   "mimetype": "text/x-python",
   "name": "python",
   "nbconvert_exporter": "python",
   "pygments_lexer": "ipython2",
   "version": "2.7.15"
  }
 },
 "nbformat": 4,
 "nbformat_minor": 2
}
